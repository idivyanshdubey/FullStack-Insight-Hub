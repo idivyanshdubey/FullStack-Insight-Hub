{
 "cells": [
  {
   "cell_type": "code",
   "execution_count": 1,
   "id": "f55ee894",
   "metadata": {},
   "outputs": [],
   "source": [
    "import findspark\n",
    "findspark.init()\n"
   ]
  },
  {
   "cell_type": "code",
   "execution_count": 2,
   "id": "15b04aff",
   "metadata": {},
   "outputs": [],
   "source": [
    "from pyspark.sql import SparkSession\n",
    "from pyspark.sql.functions import explode, split, trim"
   ]
  },
  {
   "cell_type": "code",
   "execution_count": 3,
   "id": "0d3d5e16",
   "metadata": {},
   "outputs": [],
   "source": [
    "# Step 1: Initialize Spark Session\n",
    "spark = SparkSession.builder \\\n",
    "    .appName(\"BasicWordCount\") \\\n",
    "    .getOrCreate()"
   ]
  },
  {
   "cell_type": "code",
   "execution_count": 4,
   "id": "18202ba8",
   "metadata": {},
   "outputs": [],
   "source": [
    "# Step 2: Create a DataFrame from a list of strings\n",
    "data = [(\"Hello world\",), (\"Hello Spark\",), (\"Spark is fast\",)]\n",
    "df = spark.createDataFrame(data, [\"text\"])"
   ]
  },
  {
   "cell_type": "code",
   "execution_count": 5,
   "id": "fb3fe2e7",
   "metadata": {},
   "outputs": [],
   "source": [
    "# Step 3: Split lines into words and trim them\n",
    "words_df = df.select(explode(split(df.text, \" \")).alias(\"word\")) \\\n",
    "             .select(trim(\"word\").alias(\"word\"))\n"
   ]
  },
  {
   "cell_type": "code",
   "execution_count": 6,
   "id": "833aff97",
   "metadata": {},
   "outputs": [],
   "source": [
    "# Step 4: Count occurrences of each word\n",
    "word_counts = words_df.groupBy(\"word\").count()"
   ]
  },
  {
   "cell_type": "code",
   "execution_count": 7,
   "id": "8905d27b",
   "metadata": {},
   "outputs": [
    {
     "name": "stdout",
     "output_type": "stream",
     "text": [
      "+-----+-----+\n",
      "| word|count|\n",
      "+-----+-----+\n",
      "|Hello|    2|\n",
      "|world|    1|\n",
      "|Spark|    2|\n",
      "| fast|    1|\n",
      "|   is|    1|\n",
      "+-----+-----+\n",
      "\n"
     ]
    }
   ],
   "source": [
    "# Step 5: Show the result\n",
    "word_counts.show()"
   ]
  },
  {
   "cell_type": "code",
   "execution_count": null,
   "id": "0a0320b3",
   "metadata": {},
   "outputs": [],
   "source": [
    "# Stop the Spark session\n",
    "spark.stop()"
   ]
  }
 ],
 "metadata": {
  "kernelspec": {
   "display_name": ".venv",
   "language": "python",
   "name": "python3"
  },
  "language_info": {
   "codemirror_mode": {
    "name": "ipython",
    "version": 3
   },
   "file_extension": ".py",
   "mimetype": "text/x-python",
   "name": "python",
   "nbconvert_exporter": "python",
   "pygments_lexer": "ipython3",
   "version": "3.11.4"
  }
 },
 "nbformat": 4,
 "nbformat_minor": 5
}
