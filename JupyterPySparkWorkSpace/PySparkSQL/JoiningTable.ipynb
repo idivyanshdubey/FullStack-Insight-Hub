{
 "cells": [
  {
   "cell_type": "code",
   "execution_count": 1,
   "id": "a2ec2e4b",
   "metadata": {},
   "outputs": [],
   "source": [
    "\n",
    "# Import necessary modules\n",
    "import findspark\n",
    "findspark.init()\n",
    "from pyspark.sql import SparkSession\n",
    "from pyspark.sql.functions import col, rank, udf\n",
    "from pyspark.sql.window import Window\n",
    "from pyspark.sql.types import StringType\n"
   ]
  },
  {
   "cell_type": "code",
   "execution_count": null,
   "id": "539f4794",
   "metadata": {},
   "outputs": [],
   "source": [
    "spark = SparkSession.builder.appName(\"JoiningTableExample\").getOrCreate()\n",
    "\n"
   ]
  },
  {
   "cell_type": "code",
   "execution_count": 3,
   "id": "510624d3",
   "metadata": {},
   "outputs": [],
   "source": [
    "# Sample employee data\n",
    "emp_data = [\n",
    "    {\"emp_id\":1, \"name\":\"Alice\", \"dept_id\":101},\n",
    "    {\"emp_id\":2, \"name\":\"Bob\", \"dept_id\":102},\n",
    "    {\"emp_id\":3, \"name\":\"Charlie\", \"dept_id\":101}\n",
    "]\n",
    "\n",
    "# Sample department data\n",
    "dept_data = [\n",
    "    {\"dept_id\":101, \"dept_name\":\"HR\"},\n",
    "    {\"dept_id\":102, \"dept_name\":\"IT\"}\n",
    "]\n",
    "\n"
   ]
  },
  {
   "cell_type": "code",
   "execution_count": 4,
   "id": "db7d459f",
   "metadata": {},
   "outputs": [],
   "source": [
    "# Create DataFrames\n",
    "emp_df = spark.createDataFrame(emp_data)\n",
    "dept_df = spark.createDataFrame(dept_data)\n",
    "\n"
   ]
  },
  {
   "cell_type": "code",
   "execution_count": 6,
   "id": "82ded29a",
   "metadata": {},
   "outputs": [],
   "source": [
    "# Register as SQL views\n",
    "emp_df.createOrReplaceTempView(\"employees\")\n",
    "dept_df.createOrReplaceTempView(\"departments\")\n",
    "\n"
   ]
  },
  {
   "cell_type": "code",
   "execution_count": 7,
   "id": "46566cfa",
   "metadata": {},
   "outputs": [
    {
     "name": "stdout",
     "output_type": "stream",
     "text": [
      "+-------+---------+----------+\n",
      "|   name|dept_name|dept_upper|\n",
      "+-------+---------+----------+\n",
      "|  Alice|       HR|        HR|\n",
      "|Charlie|       HR|        HR|\n",
      "|    Bob|       IT|        IT|\n",
      "+-------+---------+----------+\n",
      "\n"
     ]
    }
   ],
   "source": [
    "# SQL query to join tables and use string function\n",
    "joined = spark.sql(\"\"\"\n",
    "    SELECT \n",
    "        e.name,\n",
    "        d.dept_name,\n",
    "        UPPER(d.dept_name) AS dept_upper\n",
    "    FROM employees e\n",
    "    JOIN departments d ON e.dept_id = d.dept_id\n",
    "\"\"\")\n",
    "\n",
    "joined.show()\n"
   ]
  },
  {
   "cell_type": "code",
   "execution_count": 8,
   "id": "53820496",
   "metadata": {},
   "outputs": [],
   "source": [
    "# 💬 Explanation:\n",
    "# - JOIN: Combines rows from two tables based on matching dept_id\n",
    "# - UPPER(): SQL string function to convert text to uppercase\n",
    "# - Aliasing (e, d): Shortens table names for cleaner syntax\n"
   ]
  },
  {
   "cell_type": "code",
   "execution_count": null,
   "id": "88f333ef",
   "metadata": {},
   "outputs": [],
   "source": []
  }
 ],
 "metadata": {
  "kernelspec": {
   "display_name": ".venv",
   "language": "python",
   "name": "python3"
  },
  "language_info": {
   "codemirror_mode": {
    "name": "ipython",
    "version": 3
   },
   "file_extension": ".py",
   "mimetype": "text/x-python",
   "name": "python",
   "nbconvert_exporter": "python",
   "pygments_lexer": "ipython3",
   "version": "3.11.4"
  }
 },
 "nbformat": 4,
 "nbformat_minor": 5
}
