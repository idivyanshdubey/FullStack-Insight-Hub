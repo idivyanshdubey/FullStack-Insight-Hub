{
 "cells": [
  {
   "cell_type": "code",
   "execution_count": 1,
   "id": "a7b32b70",
   "metadata": {},
   "outputs": [],
   "source": [
    "\n",
    "# Import necessary modules\n",
    "import findspark\n",
    "findspark.init()\n",
    "from pyspark.sql import SparkSession\n",
    "from pyspark.sql.functions import col, rank, udf\n",
    "from pyspark.sql.window import Window\n",
    "from pyspark.sql.types import StringType\n"
   ]
  },
  {
   "cell_type": "code",
   "execution_count": null,
   "id": "44ff4dbf",
   "metadata": {},
   "outputs": [
    {
     "name": "stderr",
     "output_type": "stream",
     "text": [
      "----------------------------------------\n",
      "Exception occurred during processing of request from ('127.0.0.1', 63405)\n",
      "Traceback (most recent call last):\n",
      "  File \"c:\\PySparkTools\\WinPython311\\WPy64-31140\\python-3.11.4.amd64\\Lib\\socketserver.py\", line 317, in _handle_request_noblock\n",
      "    self.process_request(request, client_address)\n",
      "  File \"c:\\PySparkTools\\WinPython311\\WPy64-31140\\python-3.11.4.amd64\\Lib\\socketserver.py\", line 348, in process_request\n",
      "    self.finish_request(request, client_address)\n",
      "  File \"c:\\PySparkTools\\WinPython311\\WPy64-31140\\python-3.11.4.amd64\\Lib\\socketserver.py\", line 361, in finish_request\n",
      "    self.RequestHandlerClass(request, client_address, self)\n",
      "  File \"c:\\PySparkTools\\WinPython311\\WPy64-31140\\python-3.11.4.amd64\\Lib\\socketserver.py\", line 755, in __init__\n",
      "    self.handle()\n",
      "  File \"C:\\Program Files\\Spark-3.5.5\\python\\pyspark\\accumulators.py\", line 295, in handle\n",
      "    poll(accum_updates)\n",
      "  File \"C:\\Program Files\\Spark-3.5.5\\python\\pyspark\\accumulators.py\", line 267, in poll\n",
      "    if self.rfile in r and func():\n",
      "                           ^^^^^^\n",
      "  File \"C:\\Program Files\\Spark-3.5.5\\python\\pyspark\\accumulators.py\", line 271, in accum_updates\n",
      "    num_updates = read_int(self.rfile)\n",
      "                  ^^^^^^^^^^^^^^^^^^^^\n",
      "  File \"C:\\Program Files\\Spark-3.5.5\\python\\pyspark\\serializers.py\", line 594, in read_int\n",
      "    length = stream.read(4)\n",
      "             ^^^^^^^^^^^^^^\n",
      "  File \"c:\\PySparkTools\\WinPython311\\WPy64-31140\\python-3.11.4.amd64\\Lib\\socket.py\", line 706, in readinto\n",
      "    return self._sock.recv_into(b)\n",
      "           ^^^^^^^^^^^^^^^^^^^^^^^\n",
      "ConnectionResetError: [WinError 10054] An existing connection was forcibly closed by the remote host\n",
      "----------------------------------------\n"
     ]
    }
   ],
   "source": [
    "spark = SparkSession.builder.appName(\"AggregationAndGroupingExample\").getOrCreate()\n"
   ]
  },
  {
   "cell_type": "code",
   "execution_count": 4,
   "id": "a9d23f00",
   "metadata": {},
   "outputs": [],
   "source": [
    "\n",
    "# Sample data with department info\n",
    "data = [\n",
    "    {\"name\":\"Alice\", \"dept\":\"HR\", \"salary\":4000},\n",
    "    {\"name\":\"Bob\", \"dept\":\"IT\", \"salary\":6000},\n",
    "    {\"name\":\"Charlie\", \"dept\":\"HR\", \"salary\":4500},\n",
    "    {\"name\":\"David\", \"dept\":\"IT\", \"salary\":7000}\n",
    "]\n",
    "\n"
   ]
  },
  {
   "cell_type": "code",
   "execution_count": 5,
   "id": "c9d4c920",
   "metadata": {},
   "outputs": [],
   "source": [
    "df = spark.createDataFrame(data)\n",
    "df.createOrReplaceTempView(\"employees\")\n"
   ]
  },
  {
   "cell_type": "code",
   "execution_count": 6,
   "id": "1f74b7b6",
   "metadata": {},
   "outputs": [
    {
     "name": "stdout",
     "output_type": "stream",
     "text": [
      "+----+----------+\n",
      "|dept|avg_salary|\n",
      "+----+----------+\n",
      "|  HR|    4250.0|\n",
      "|  IT|    6500.0|\n",
      "+----+----------+\n",
      "\n"
     ]
    }
   ],
   "source": [
    "# SQL query to calculate average salary per department\n",
    "avg_salary = spark.sql(\"\"\"\n",
    "    SELECT dept, AVG(salary) AS avg_salary\n",
    "    FROM employees\n",
    "    GROUP BY dept\n",
    "\"\"\")\n",
    "\n",
    "avg_salary.show()\n"
   ]
  },
  {
   "cell_type": "code",
   "execution_count": 7,
   "id": "a98a488d",
   "metadata": {},
   "outputs": [],
   "source": [
    "# 💬 Explanation:\n",
    "# - GROUP BY: Groups rows by department\n",
    "# - AVG(): SQL aggregation function to calculate average\n",
    "# - AS avg_salary: Renames the output column\n"
   ]
  }
 ],
 "metadata": {
  "kernelspec": {
   "display_name": ".venv",
   "language": "python",
   "name": "python3"
  },
  "language_info": {
   "codemirror_mode": {
    "name": "ipython",
    "version": 3
   },
   "file_extension": ".py",
   "mimetype": "text/x-python",
   "name": "python",
   "nbconvert_exporter": "python",
   "pygments_lexer": "ipython3",
   "version": "3.11.4"
  }
 },
 "nbformat": 4,
 "nbformat_minor": 5
}
