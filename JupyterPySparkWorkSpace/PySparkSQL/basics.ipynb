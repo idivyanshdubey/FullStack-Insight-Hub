{
 "cells": [
  {
   "cell_type": "code",
   "execution_count": 1,
   "id": "2cb9b5fa",
   "metadata": {},
   "outputs": [],
   "source": [
    "\n",
    "# Import necessary modules\n",
    "import findspark\n",
    "findspark.init()\n",
    "from pyspark.sql import SparkSession\n",
    "from pyspark.sql.functions import col, rank, udf\n",
    "from pyspark.sql.window import Window\n",
    "from pyspark.sql.types import StringType\n"
   ]
  },
  {
   "cell_type": "code",
   "execution_count": 2,
   "id": "01b152c7",
   "metadata": {},
   "outputs": [],
   "source": [
    "spark = SparkSession.builder.appName(\"PySparkSQLBasicExample\").getOrCreate()\n"
   ]
  },
  {
   "cell_type": "code",
   "execution_count": 6,
   "id": "6ed222e2",
   "metadata": {},
   "outputs": [],
   "source": [
    "# Sample data as list of Rows\n",
    "\n",
    "data = [\n",
    "    {\"id\": 1, \"name\": \"Alice\", \"age\": 28},\n",
    "    {\"id\": 2, \"name\": \"Bob\", \"age\": 35},\n",
    "    {\"id\": 3, \"name\": \"Charlie\", \"age\": 30}\n",
    "]\n",
    "\n"
   ]
  },
  {
   "cell_type": "code",
   "execution_count": 7,
   "id": "68c50a1d",
   "metadata": {},
   "outputs": [],
   "source": [
    "# Create DataFrame from data\n",
    "df = spark.createDataFrame(data)\n"
   ]
  },
  {
   "cell_type": "code",
   "execution_count": 8,
   "id": "77314cbf",
   "metadata": {},
   "outputs": [],
   "source": [
    "# Register the DataFrame as a temporary SQL table\n",
    "df.createOrReplaceTempView(\"people\")\n"
   ]
  },
  {
   "cell_type": "code",
   "execution_count": 9,
   "id": "fc6c8b85",
   "metadata": {},
   "outputs": [],
   "source": [
    "# Run a basic SQL query\n",
    "result = spark.sql(\"SELECT name, age FROM people WHERE age > 30\")\n"
   ]
  },
  {
   "cell_type": "code",
   "execution_count": 10,
   "id": "724f7545",
   "metadata": {},
   "outputs": [
    {
     "name": "stdout",
     "output_type": "stream",
     "text": [
      "+----+---+\n",
      "|name|age|\n",
      "+----+---+\n",
      "| Bob| 35|\n",
      "+----+---+\n",
      "\n"
     ]
    }
   ],
   "source": [
    "# Show the result\n",
    "result.show()\n"
   ]
  },
  {
   "cell_type": "code",
   "execution_count": 11,
   "id": "532f7302",
   "metadata": {},
   "outputs": [],
   "source": [
    "# 💬 Explanation:\n",
    "# - createDataFrame: Converts Python objects to Spark DataFrame\n",
    "# - createOrReplaceTempView: Registers DataFrame as a SQL table\n",
    "# - spark.sql: Executes SQL queries on registered tables\n"
   ]
  }
 ],
 "metadata": {
  "kernelspec": {
   "display_name": ".venv",
   "language": "python",
   "name": "python3"
  },
  "language_info": {
   "codemirror_mode": {
    "name": "ipython",
    "version": 3
   },
   "file_extension": ".py",
   "mimetype": "text/x-python",
   "name": "python",
   "nbconvert_exporter": "python",
   "pygments_lexer": "ipython3",
   "version": "3.11.4"
  }
 },
 "nbformat": 4,
 "nbformat_minor": 5
}
