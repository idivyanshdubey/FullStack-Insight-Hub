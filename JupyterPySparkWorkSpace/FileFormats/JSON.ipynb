{
 "cells": [
  {
   "cell_type": "code",
   "execution_count": 2,
   "id": "9ade514f",
   "metadata": {},
   "outputs": [],
   "source": [
    "\n",
    "# Import necessary modules\n",
    "import findspark\n",
    "findspark.init()\n",
    "from pyspark.sql import SparkSession\n",
    "from pyspark.sql.functions import col, rank, udf\n",
    "from pyspark.sql.window import Window\n",
    "from pyspark.sql.types import StringType\n",
    "from pyspark.sql.functions import when, col"
   ]
  },
  {
   "cell_type": "code",
   "execution_count": 4,
   "id": "680fea0a",
   "metadata": {},
   "outputs": [],
   "source": [
    "spark = SparkSession.builder.appName(\"JSONFileReadWriteExample\").getOrCreate()\n",
    "\n"
   ]
  },
  {
   "cell_type": "code",
   "execution_count": 5,
   "id": "795de3e3",
   "metadata": {},
   "outputs": [],
   "source": [
    "\n",
    "df_json = spark.read.option(\"multiline\", \"true\").json(\"DataFiles/sample_data.json\")\n"
   ]
  },
  {
   "cell_type": "code",
   "execution_count": 6,
   "id": "26abbe96",
   "metadata": {},
   "outputs": [],
   "source": [
    "\n",
    "df_modified = df_json.withColumn(\n",
    "    \"age_group\",\n",
    "    when(col(\"age\") < 25, \"Young\")\n",
    "    .when(col(\"age\") < 35, \"Adult\")\n",
    "    .otherwise(\"Senior\")\n",
    ")\n",
    "\n",
    "\n",
    "\n"
   ]
  },
  {
   "cell_type": "code",
   "execution_count": 7,
   "id": "f9047018",
   "metadata": {},
   "outputs": [],
   "source": [
    "\n",
    "# Write to new JSON\n",
    "df_modified.write.mode(\"overwrite\").json(\"output_json_modified\")\n"
   ]
  }
 ],
 "metadata": {
  "kernelspec": {
   "display_name": ".venv",
   "language": "python",
   "name": "python3"
  },
  "language_info": {
   "codemirror_mode": {
    "name": "ipython",
    "version": 3
   },
   "file_extension": ".py",
   "mimetype": "text/x-python",
   "name": "python",
   "nbconvert_exporter": "python",
   "pygments_lexer": "ipython3",
   "version": "3.11.4"
  }
 },
 "nbformat": 4,
 "nbformat_minor": 5
}
