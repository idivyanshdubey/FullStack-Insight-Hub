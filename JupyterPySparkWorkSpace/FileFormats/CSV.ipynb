{
 "cells": [
  {
   "cell_type": "code",
   "execution_count": null,
   "id": "35f9826d",
   "metadata": {},
   "outputs": [],
   "source": [
    "# Import necessary modules\n",
    "import findspark\n",
    "findspark.init()\n",
    "from pyspark.sql import SparkSession\n",
    "from pyspark.sql.functions import col, rank, udf\n",
    "from pyspark.sql.window import Window\n",
    "from pyspark.sql.types import StringType\n"
   ]
  },
  {
   "cell_type": "code",
   "execution_count": null,
   "id": "314617f4",
   "metadata": {},
   "outputs": [],
   "source": [
    "spark = SparkSession.builder.appName(\"CSVFileReadWriteExample\").getOrCreate()\n",
    "\n"
   ]
  },
  {
   "cell_type": "code",
   "execution_count": 5,
   "id": "5b5f8b3c",
   "metadata": {},
   "outputs": [],
   "source": [
    "\n",
    "# Read CSV\n",
    "df_csv = spark.read.option(\"header\", \"true\").csv(\"DataFiles/sample_data.csv\")\n"
   ]
  },
  {
   "cell_type": "code",
   "execution_count": 10,
   "id": "96803186",
   "metadata": {},
   "outputs": [
    {
     "name": "stdout",
     "output_type": "stream",
     "text": [
      "+---+-------+---+-------+\n",
      "| id|   name|age|   city|\n",
      "+---+-------+---+-------+\n",
      "|  3|Charlie| 35|Chicago|\n",
      "+---+-------+---+-------+\n",
      "\n"
     ]
    }
   ],
   "source": [
    "\n",
    "# Filter rows\n",
    "df_filtered = df_csv.filter(df_csv.age.cast(\"int\") > 30)\n",
    "df_filtered.show()\n"
   ]
  },
  {
   "cell_type": "code",
   "execution_count": 8,
   "id": "18af481b",
   "metadata": {},
   "outputs": [],
   "source": [
    "\n",
    "# Write to new CSV\n",
    "df_filtered.write.mode(\"overwrite\").option(\"header\", \"true\").csv(\"output_csv_filtered\")\n"
   ]
  },
  {
   "cell_type": "code",
   "execution_count": null,
   "id": "2984c5e4",
   "metadata": {},
   "outputs": [],
   "source": []
  }
 ],
 "metadata": {
  "kernelspec": {
   "display_name": ".venv",
   "language": "python",
   "name": "python3"
  },
  "language_info": {
   "codemirror_mode": {
    "name": "ipython",
    "version": 3
   },
   "file_extension": ".py",
   "mimetype": "text/x-python",
   "name": "python",
   "nbconvert_exporter": "python",
   "pygments_lexer": "ipython3",
   "version": "3.11.4"
  }
 },
 "nbformat": 4,
 "nbformat_minor": 5
}
